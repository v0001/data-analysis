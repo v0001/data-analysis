{
 "cells": [
  {
   "cell_type": "code",
   "execution_count": 20,
   "metadata": {},
   "outputs": [
    {
     "name": "stdout",
     "output_type": "stream",
     "text": [
      "홍대입구 공항철도 1호선 95.42\n"
     ]
    }
   ],
   "source": [
    "import csv\n",
    "f = open ('subwayfree.csv')\n",
    "data = csv.reader(f)\n",
    "\n",
    "next(data)\n",
    "\n",
    "mx = 0\n",
    "rate = 0\n",
    "mx_station = ''\n",
    "\n",
    "for row in data:\n",
    "    for i in range(4,8):\n",
    "        row[i] = int(row[i])\n",
    "    \n",
    "    if row[6] != 0 and (row[4] + row[6]) > 100000:\n",
    "        rate = row[4]/(row[4] + row[6])\n",
    "        if rate>mx:\n",
    "            mx = rate\n",
    "            mx_station = row[3] + ' ' +row[1]\n",
    "\n",
    "print(mx_station,round(mx*100,2))\n",
    "            \n",
    "#print(mx_station,round(mx*100,2))\n",
    "    "
   ]
  },
  {
   "cell_type": "code",
   "execution_count": 24,
   "metadata": {},
   "outputs": [
    {
     "name": "stdout",
     "output_type": "stream",
     "text": [
      "유임승차 강남 2호선 2784689\n",
      "유임하차 강남 2호선 2866156\n",
      "무임승차 종로3가 1호선 364104\n",
      "무임하차 제기동 1호선 360747\n"
     ]
    }
   ],
   "source": [
    "import csv\n",
    "f = open ('subwayfree.csv')\n",
    "data = csv.reader(f)\n",
    "\n",
    "next(data)\n",
    "\n",
    "mx = [0] *4\n",
    "mx_station = [''] * 4\n",
    "label = ['유임승차', '유임하차','무임승차','무임하차']\n",
    "\n",
    "for row in data:\n",
    "    for i in range(4,8):\n",
    "        row[i] = int(row[i])\n",
    "        if row[i] > mx [i-4]:\n",
    "            mx[i-4] = row[i]\n",
    "            mx_station[i-4] = row[3] + ' ' + row[1]\n",
    "            \n",
    "for i in range (4):\n",
    "    print(label[i], mx_station[i], mx[i])\n",
    "        \n",
    "        "
   ]
  },
  {
   "cell_type": "code",
   "execution_count": null,
   "metadata": {},
   "outputs": [],
   "source": []
  }
 ],
 "metadata": {
  "kernelspec": {
   "display_name": "Python 3",
   "language": "python",
   "name": "python3"
  },
  "language_info": {
   "codemirror_mode": {
    "name": "ipython",
    "version": 3
   },
   "file_extension": ".py",
   "mimetype": "text/x-python",
   "name": "python",
   "nbconvert_exporter": "python",
   "pygments_lexer": "ipython3",
   "version": "3.7.4"
  }
 },
 "nbformat": 4,
 "nbformat_minor": 2
}
